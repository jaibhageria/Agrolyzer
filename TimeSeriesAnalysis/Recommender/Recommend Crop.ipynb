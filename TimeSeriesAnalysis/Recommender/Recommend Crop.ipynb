{
 "cells": [
  {
   "cell_type": "code",
   "execution_count": 1,
   "metadata": {},
   "outputs": [],
   "source": [
    "import pandas as pd"
   ]
  },
  {
   "cell_type": "code",
   "execution_count": 2,
   "metadata": {},
   "outputs": [],
   "source": [
    "df = pd.read_csv('Growth conditions.csv')"
   ]
  },
  {
   "cell_type": "code",
   "execution_count": 3,
   "metadata": {},
   "outputs": [
    {
     "data": {
      "text/html": [
       "<div>\n",
       "<style scoped>\n",
       "    .dataframe tbody tr th:only-of-type {\n",
       "        vertical-align: middle;\n",
       "    }\n",
       "\n",
       "    .dataframe tbody tr th {\n",
       "        vertical-align: top;\n",
       "    }\n",
       "\n",
       "    .dataframe thead th {\n",
       "        text-align: right;\n",
       "    }\n",
       "</style>\n",
       "<table border=\"1\" class=\"dataframe\">\n",
       "  <thead>\n",
       "    <tr style=\"text-align: right;\">\n",
       "      <th></th>\n",
       "      <th>Crop</th>\n",
       "      <th>Min temp</th>\n",
       "      <th>Max temp</th>\n",
       "      <th>Avg temp</th>\n",
       "      <th>Min Rainfall</th>\n",
       "      <th>Max Rainfall</th>\n",
       "      <th>Avg Rainfall</th>\n",
       "      <th>Soil</th>\n",
       "    </tr>\n",
       "  </thead>\n",
       "  <tbody>\n",
       "    <tr>\n",
       "      <th>0</th>\n",
       "      <td>Rice</td>\n",
       "      <td>22</td>\n",
       "      <td>32</td>\n",
       "      <td>27.0</td>\n",
       "      <td>1500</td>\n",
       "      <td>3000</td>\n",
       "      <td>2250</td>\n",
       "      <td>Clayey,Loamy</td>\n",
       "    </tr>\n",
       "    <tr>\n",
       "      <th>1</th>\n",
       "      <td>Wheat</td>\n",
       "      <td>15</td>\n",
       "      <td>26</td>\n",
       "      <td>20.5</td>\n",
       "      <td>750</td>\n",
       "      <td>1000</td>\n",
       "      <td>875</td>\n",
       "      <td>Fertile Loamy,Clayey Loamy</td>\n",
       "    </tr>\n",
       "    <tr>\n",
       "      <th>2</th>\n",
       "      <td>Millets</td>\n",
       "      <td>27</td>\n",
       "      <td>32</td>\n",
       "      <td>29.5</td>\n",
       "      <td>500</td>\n",
       "      <td>1000</td>\n",
       "      <td>750</td>\n",
       "      <td>Alluvial,Loamy</td>\n",
       "    </tr>\n",
       "    <tr>\n",
       "      <th>3</th>\n",
       "      <td>Grams</td>\n",
       "      <td>20</td>\n",
       "      <td>25</td>\n",
       "      <td>22.5</td>\n",
       "      <td>400</td>\n",
       "      <td>450</td>\n",
       "      <td>425</td>\n",
       "      <td>Loamy</td>\n",
       "    </tr>\n",
       "    <tr>\n",
       "      <th>4</th>\n",
       "      <td>Sugarcane</td>\n",
       "      <td>21</td>\n",
       "      <td>27</td>\n",
       "      <td>24.0</td>\n",
       "      <td>750</td>\n",
       "      <td>1500</td>\n",
       "      <td>1125</td>\n",
       "      <td>Rich Loamy</td>\n",
       "    </tr>\n",
       "    <tr>\n",
       "      <th>5</th>\n",
       "      <td>Cotton</td>\n",
       "      <td>21</td>\n",
       "      <td>30</td>\n",
       "      <td>25.5</td>\n",
       "      <td>500</td>\n",
       "      <td>1000</td>\n",
       "      <td>750</td>\n",
       "      <td>Black,Alluvial,Red,Laterite</td>\n",
       "    </tr>\n",
       "    <tr>\n",
       "      <th>6</th>\n",
       "      <td>Oilseeds</td>\n",
       "      <td>20</td>\n",
       "      <td>30</td>\n",
       "      <td>25.0</td>\n",
       "      <td>500</td>\n",
       "      <td>750</td>\n",
       "      <td>625</td>\n",
       "      <td>Sandy Loamy,Red,Yellow,Black</td>\n",
       "    </tr>\n",
       "    <tr>\n",
       "      <th>7</th>\n",
       "      <td>Tea</td>\n",
       "      <td>20</td>\n",
       "      <td>30</td>\n",
       "      <td>25.0</td>\n",
       "      <td>1500</td>\n",
       "      <td>3000</td>\n",
       "      <td>2250</td>\n",
       "      <td>Well drained Loamy</td>\n",
       "    </tr>\n",
       "    <tr>\n",
       "      <th>8</th>\n",
       "      <td>Coffee</td>\n",
       "      <td>15</td>\n",
       "      <td>28</td>\n",
       "      <td>21.5</td>\n",
       "      <td>1500</td>\n",
       "      <td>2500</td>\n",
       "      <td>2000</td>\n",
       "      <td>Well drained Loamy</td>\n",
       "    </tr>\n",
       "  </tbody>\n",
       "</table>\n",
       "</div>"
      ],
      "text/plain": [
       "        Crop  Min temp  Max temp  Avg temp  Min Rainfall  Max Rainfall  \\\n",
       "0       Rice        22        32      27.0          1500          3000   \n",
       "1      Wheat        15        26      20.5           750          1000   \n",
       "2    Millets        27        32      29.5           500          1000   \n",
       "3      Grams        20        25      22.5           400           450   \n",
       "4  Sugarcane        21        27      24.0           750          1500   \n",
       "5     Cotton        21        30      25.5           500          1000   \n",
       "6   Oilseeds        20        30      25.0           500           750   \n",
       "7        Tea        20        30      25.0          1500          3000   \n",
       "8     Coffee        15        28      21.5          1500          2500   \n",
       "\n",
       "   Avg Rainfall                          Soil  \n",
       "0          2250                  Clayey,Loamy  \n",
       "1           875    Fertile Loamy,Clayey Loamy  \n",
       "2           750                Alluvial,Loamy  \n",
       "3           425                         Loamy  \n",
       "4          1125                    Rich Loamy  \n",
       "5           750   Black,Alluvial,Red,Laterite  \n",
       "6           625  Sandy Loamy,Red,Yellow,Black  \n",
       "7          2250            Well drained Loamy  \n",
       "8          2000            Well drained Loamy  "
      ]
     },
     "execution_count": 3,
     "metadata": {},
     "output_type": "execute_result"
    }
   ],
   "source": [
    "df"
   ]
  },
  {
   "cell_type": "code",
   "execution_count": 4,
   "metadata": {},
   "outputs": [],
   "source": [
    "df.iloc[0,3]\n",
    "import math"
   ]
  },
  {
   "cell_type": "code",
   "execution_count": 5,
   "metadata": {},
   "outputs": [
    {
     "data": {
      "text/plain": [
       "29.5"
      ]
     },
     "execution_count": 5,
     "metadata": {},
     "output_type": "execute_result"
    }
   ],
   "source": [
    "max(df['Avg temp'].values)"
   ]
  },
  {
   "cell_type": "code",
   "execution_count": 6,
   "metadata": {},
   "outputs": [],
   "source": [
    "def scale(val,s,l,a = 0, b = 10):\n",
    "    return (a+((b-a)*((val-s)/(l-s))))"
   ]
  },
  {
   "cell_type": "code",
   "execution_count": 8,
   "metadata": {},
   "outputs": [
    {
     "name": "stdout",
     "output_type": "stream",
     "text": [
      "Enter the temperature - 26.193381476956144\n",
      "Enter the rainfall - 156.5623278531822\n",
      "Sugarcane\n"
     ]
    }
   ],
   "source": [
    "temp = float(input(\"Enter the temperature - \"))\n",
    "rainfall = float(input(\"Enter the rainfall - \"))*10\n",
    "tmax = max(df['Avg temp'].values)\n",
    "tmin = min(df['Avg temp'].values)\n",
    "rmax = max(df['Avg Rainfall'].values)\n",
    "rmin = min(df['Avg Rainfall'].values)\n",
    "temp = scale(temp,tmin,tmax)\n",
    "rainfall = scale(rainfall,rmin,rmax)\n",
    "euclid = []\n",
    "for i in range(len(df)):\n",
    "    \n",
    "    dist = math.sqrt(((temp-scale(df.iloc[i,3],tmin,tmax))**2)+((rainfall-scale(df.iloc[i,6],rmin,rmax))**2))\n",
    "    euclid.append(dist)\n",
    "minv = min(euclid)\n",
    "mi = euclid.index(minv)\n",
    "print(df.iloc[mi,].Crop)"
   ]
  },
  {
   "cell_type": "code",
   "execution_count": null,
   "metadata": {},
   "outputs": [],
   "source": []
  }
 ],
 "metadata": {
  "kernelspec": {
   "display_name": "Python 3",
   "language": "python",
   "name": "python3"
  },
  "language_info": {
   "codemirror_mode": {
    "name": "ipython",
    "version": 3
   },
   "file_extension": ".py",
   "mimetype": "text/x-python",
   "name": "python",
   "nbconvert_exporter": "python",
   "pygments_lexer": "ipython3",
   "version": "3.6.7"
  }
 },
 "nbformat": 4,
 "nbformat_minor": 2
}
