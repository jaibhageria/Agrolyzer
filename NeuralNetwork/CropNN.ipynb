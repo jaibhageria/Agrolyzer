{
 "cells": [
  {
   "cell_type": "code",
   "execution_count": 68,
   "metadata": {
    "collapsed": true
   },
   "outputs": [],
   "source": [
    "import sys\n",
    "sys.path.append(\"/home/datta/Documents/5th Sem/DataAnalytics/Project\")\n",
    "import pandas as pd\n",
    "import numpy as np\n",
    "%matplotlib inline"
   ]
  },
  {
   "cell_type": "code",
   "execution_count": 2,
   "metadata": {
    "collapsed": true
   },
   "outputs": [],
   "source": [
    "from AgroPredictor import DataPreProcessing"
   ]
  },
  {
   "cell_type": "code",
   "execution_count": 77,
   "metadata": {},
   "outputs": [],
   "source": [
    "district = DataPreProcessing.NNFriendly()"
   ]
  },
  {
   "cell_type": "code",
   "execution_count": 4,
   "metadata": {
    "collapsed": true
   },
   "outputs": [],
   "source": [
    "NNData = pd.read_csv('NNF.csv')"
   ]
  },
  {
   "cell_type": "code",
   "execution_count": 5,
   "metadata": {},
   "outputs": [
    {
     "data": {
      "text/html": [
       "<div>\n",
       "<style>\n",
       "    .dataframe thead tr:only-child th {\n",
       "        text-align: right;\n",
       "    }\n",
       "\n",
       "    .dataframe thead th {\n",
       "        text-align: left;\n",
       "    }\n",
       "\n",
       "    .dataframe tbody tr th {\n",
       "        vertical-align: top;\n",
       "    }\n",
       "</style>\n",
       "<table border=\"1\" class=\"dataframe\">\n",
       "  <thead>\n",
       "    <tr style=\"text-align: right;\">\n",
       "      <th></th>\n",
       "      <th>Production</th>\n",
       "      <th>Area</th>\n",
       "      <th>Crop</th>\n",
       "    </tr>\n",
       "  </thead>\n",
       "  <tbody>\n",
       "    <tr>\n",
       "      <th>0</th>\n",
       "      <td>10.0</td>\n",
       "      <td>20.0</td>\n",
       "      <td>1</td>\n",
       "    </tr>\n",
       "    <tr>\n",
       "      <th>1</th>\n",
       "      <td>10.0</td>\n",
       "      <td>20.0</td>\n",
       "      <td>1</td>\n",
       "    </tr>\n",
       "    <tr>\n",
       "      <th>2</th>\n",
       "      <td>10.0</td>\n",
       "      <td>20.0</td>\n",
       "      <td>1</td>\n",
       "    </tr>\n",
       "    <tr>\n",
       "      <th>3</th>\n",
       "      <td>10.0</td>\n",
       "      <td>30.0</td>\n",
       "      <td>2</td>\n",
       "    </tr>\n",
       "    <tr>\n",
       "      <th>4</th>\n",
       "      <td>10.0</td>\n",
       "      <td>20.0</td>\n",
       "      <td>3</td>\n",
       "    </tr>\n",
       "  </tbody>\n",
       "</table>\n",
       "</div>"
      ],
      "text/plain": [
       "   Production  Area  Crop\n",
       "0        10.0  20.0     1\n",
       "1        10.0  20.0     1\n",
       "2        10.0  20.0     1\n",
       "3        10.0  30.0     2\n",
       "4        10.0  20.0     3"
      ]
     },
     "execution_count": 5,
     "metadata": {},
     "output_type": "execute_result"
    }
   ],
   "source": [
    "NNData.head()\n",
    "\n",
    "columnsChange = ['Production','Area','District_Name','Crop']\n",
    "NNData = NNData.reindex(columns = columnsChange)\n",
    "\n",
    "newdf = NNData[NNData['District_Name'] == 1]\n",
    "\n",
    "newdf = newdf.drop('District_Name',1)\n",
    "\n",
    "newdf.head()"
   ]
  },
  {
   "cell_type": "code",
   "execution_count": 6,
   "metadata": {
    "collapsed": true
   },
   "outputs": [],
   "source": [
    "x = newdf.iloc[:, 0:2].values\n",
    "y = newdf.iloc[:,2].values"
   ]
  },
  {
   "cell_type": "code",
   "execution_count": null,
   "metadata": {
    "collapsed": true
   },
   "outputs": [],
   "source": []
  },
  {
   "cell_type": "code",
   "execution_count": 7,
   "metadata": {
    "collapsed": true
   },
   "outputs": [],
   "source": [
    "from sklearn.model_selection import train_test_split\n",
    "x_train,x_test, y_train, y_test = train_test_split(x, y, test_size = 0.2)"
   ]
  },
  {
   "cell_type": "code",
   "execution_count": 8,
   "metadata": {
    "collapsed": true
   },
   "outputs": [],
   "source": [
    "from sklearn.preprocessing import StandardScaler\n",
    "sc = StandardScaler()\n",
    "x_train = sc.fit_transform(x_train)\n",
    "x_test = sc.transform(x_test)"
   ]
  },
  {
   "cell_type": "code",
   "execution_count": 9,
   "metadata": {},
   "outputs": [
    {
     "name": "stderr",
     "output_type": "stream",
     "text": [
      "Using TensorFlow backend.\n"
     ]
    }
   ],
   "source": [
    "import keras\n",
    "from keras.models import Sequential\n",
    "from keras.layers.convolutional import Conv2D\n",
    "from keras.layers import Dense"
   ]
  },
  {
   "cell_type": "code",
   "execution_count": 11,
   "metadata": {},
   "outputs": [],
   "source": [
    "classifier = Sequential()"
   ]
  },
  {
   "cell_type": "code",
   "execution_count": 12,
   "metadata": {},
   "outputs": [
    {
     "name": "stderr",
     "output_type": "stream",
     "text": [
      "/home/datta/anaconda3/lib/python3.6/site-packages/ipykernel_launcher.py:1: UserWarning: Update your `Dense` call to the Keras 2 API: `Dense(activation=\"relu\", units=40, kernel_initializer=\"uniform\")`\n",
      "  \"\"\"Entry point for launching an IPython kernel.\n",
      "/home/datta/anaconda3/lib/python3.6/site-packages/ipykernel_launcher.py:2: UserWarning: Update your `Dense` call to the Keras 2 API: `Dense(activation=\"relu\", units=20, kernel_initializer=\"uniform\")`\n",
      "  \n",
      "/home/datta/anaconda3/lib/python3.6/site-packages/ipykernel_launcher.py:4: UserWarning: Update your `Dense` call to the Keras 2 API: `Dense(activation=\"softmax\", units=106, kernel_initializer=\"uniform\")`\n",
      "  after removing the cwd from sys.path.\n"
     ]
    }
   ],
   "source": [
    "classifier.add(Dense(output_dim = 40, init = 'uniform', activation = 'relu'))\n",
    "classifier.add(Dense(output_dim = 20, init = 'uniform', activation = 'relu'))\n",
    "classifier.add(Dense(output_dim = 106, init = 'uniform', activation = 'softmax'))"
   ]
  },
  {
   "cell_type": "code",
   "execution_count": 51,
   "metadata": {
    "collapsed": true
   },
   "outputs": [],
   "source": [
    "classifier.compile(optimizer='adam', loss = 'sparse_categorical_crossentropy', metrics = ['accuracy'])"
   ]
  },
  {
   "cell_type": "code",
   "execution_count": 56,
   "metadata": {},
   "outputs": [
    {
     "name": "stdout",
     "output_type": "stream",
     "text": [
      "Epoch 1/100\n",
      "259/336 [======================>.......] - ETA: 0s - loss: 1.6724 - acc: 0.4479"
     ]
    },
    {
     "name": "stderr",
     "output_type": "stream",
     "text": [
      "/home/datta/anaconda3/lib/python3.6/site-packages/ipykernel_launcher.py:1: UserWarning: The `nb_epoch` argument in `fit` has been renamed `epochs`.\n",
      "  \"\"\"Entry point for launching an IPython kernel.\n"
     ]
    },
    {
     "name": "stdout",
     "output_type": "stream",
     "text": [
      "336/336 [==============================] - 0s 632us/step - loss: 1.5896 - acc: 0.4583\n",
      "Epoch 2/100\n",
      "336/336 [==============================] - 0s 581us/step - loss: 1.6023 - acc: 0.4851\n",
      "Epoch 3/100\n",
      "336/336 [==============================] - 0s 547us/step - loss: 1.6000 - acc: 0.4494\n",
      "Epoch 4/100\n",
      "336/336 [==============================] - 0s 552us/step - loss: 1.5960 - acc: 0.4554\n",
      "Epoch 5/100\n",
      "336/336 [==============================] - 0s 519us/step - loss: 1.5816 - acc: 0.4643\n",
      "Epoch 6/100\n",
      "336/336 [==============================] - 0s 558us/step - loss: 1.6140 - acc: 0.4613\n",
      "Epoch 7/100\n",
      "336/336 [==============================] - 0s 564us/step - loss: 1.5906 - acc: 0.4851\n",
      "Epoch 8/100\n",
      "336/336 [==============================] - 0s 955us/step - loss: 1.5718 - acc: 0.4762\n",
      "Epoch 9/100\n",
      "336/336 [==============================] - 0s 653us/step - loss: 1.5788 - acc: 0.4702\n",
      "Epoch 10/100\n",
      "336/336 [==============================] - 0s 586us/step - loss: 1.5907 - acc: 0.4464\n",
      "Epoch 11/100\n",
      "336/336 [==============================] - 0s 591us/step - loss: 1.5838 - acc: 0.4732\n",
      "Epoch 12/100\n",
      "336/336 [==============================] - 0s 793us/step - loss: 1.5937 - acc: 0.4554\n",
      "Epoch 13/100\n",
      "336/336 [==============================] - 0s 572us/step - loss: 1.5941 - acc: 0.4643\n",
      "Epoch 14/100\n",
      "336/336 [==============================] - 0s 542us/step - loss: 1.5896 - acc: 0.4762\n",
      "Epoch 15/100\n",
      "336/336 [==============================] - 0s 556us/step - loss: 1.5772 - acc: 0.4673\n",
      "Epoch 16/100\n",
      "336/336 [==============================] - 0s 590us/step - loss: 1.5852 - acc: 0.4970\n",
      "Epoch 17/100\n",
      "336/336 [==============================] - 0s 607us/step - loss: 1.5979 - acc: 0.4643\n",
      "Epoch 18/100\n",
      "336/336 [==============================] - 0s 578us/step - loss: 1.5873 - acc: 0.4524\n",
      "Epoch 19/100\n",
      "336/336 [==============================] - 0s 565us/step - loss: 1.5978 - acc: 0.4643\n",
      "Epoch 20/100\n",
      "336/336 [==============================] - 0s 599us/step - loss: 1.5997 - acc: 0.4554\n",
      "Epoch 21/100\n",
      "336/336 [==============================] - 0s 591us/step - loss: 1.5848 - acc: 0.4732\n",
      "Epoch 22/100\n",
      "336/336 [==============================] - 0s 578us/step - loss: 1.5818 - acc: 0.4821\n",
      "Epoch 23/100\n",
      "336/336 [==============================] - 0s 577us/step - loss: 1.5808 - acc: 0.4702\n",
      "Epoch 24/100\n",
      "336/336 [==============================] - 0s 560us/step - loss: 1.5909 - acc: 0.4643\n",
      "Epoch 25/100\n",
      "336/336 [==============================] - 0s 609us/step - loss: 1.5865 - acc: 0.4613\n",
      "Epoch 26/100\n",
      "336/336 [==============================] - 0s 548us/step - loss: 1.5970 - acc: 0.4792\n",
      "Epoch 27/100\n",
      "336/336 [==============================] - 0s 524us/step - loss: 1.6052 - acc: 0.4643\n",
      "Epoch 28/100\n",
      "336/336 [==============================] - 0s 824us/step - loss: 1.5907 - acc: 0.4643\n",
      "Epoch 29/100\n",
      "336/336 [==============================] - 0s 915us/step - loss: 1.5874 - acc: 0.4494\n",
      "Epoch 30/100\n",
      "336/336 [==============================] - 0s 945us/step - loss: 1.5752 - acc: 0.4881\n",
      "Epoch 31/100\n",
      "336/336 [==============================] - 0s 589us/step - loss: 1.5842 - acc: 0.4821\n",
      "Epoch 32/100\n",
      "336/336 [==============================] - 0s 617us/step - loss: 1.5799 - acc: 0.4702\n",
      "Epoch 33/100\n",
      "336/336 [==============================] - 0s 582us/step - loss: 1.5789 - acc: 0.4762\n",
      "Epoch 34/100\n",
      "336/336 [==============================] - 0s 574us/step - loss: 1.5798 - acc: 0.4613\n",
      "Epoch 35/100\n",
      "336/336 [==============================] - 0s 621us/step - loss: 1.5834 - acc: 0.4702\n",
      "Epoch 36/100\n",
      "336/336 [==============================] - 0s 590us/step - loss: 1.5770 - acc: 0.4673\n",
      "Epoch 37/100\n",
      "336/336 [==============================] - 0s 600us/step - loss: 1.5935 - acc: 0.4554\n",
      "Epoch 38/100\n",
      "336/336 [==============================] - 0s 580us/step - loss: 1.5809 - acc: 0.4464\n",
      "Epoch 39/100\n",
      "336/336 [==============================] - 0s 608us/step - loss: 1.5861 - acc: 0.4643\n",
      "Epoch 40/100\n",
      "336/336 [==============================] - 0s 616us/step - loss: 1.5841 - acc: 0.4821\n",
      "Epoch 41/100\n",
      "336/336 [==============================] - 0s 576us/step - loss: 1.5818 - acc: 0.4613\n",
      "Epoch 42/100\n",
      "336/336 [==============================] - 0s 813us/step - loss: 1.5793 - acc: 0.4643\n",
      "Epoch 43/100\n",
      "336/336 [==============================] - 0s 849us/step - loss: 1.6617 - acc: 0.4792\n",
      "Epoch 44/100\n",
      "336/336 [==============================] - 0s 584us/step - loss: 1.6639 - acc: 0.4524\n",
      "Epoch 45/100\n",
      "336/336 [==============================] - 0s 578us/step - loss: 1.5985 - acc: 0.4673\n",
      "Epoch 46/100\n",
      "336/336 [==============================] - 0s 577us/step - loss: 1.5780 - acc: 0.4673\n",
      "Epoch 47/100\n",
      "336/336 [==============================] - 0s 592us/step - loss: 1.5837 - acc: 0.4762\n",
      "Epoch 48/100\n",
      "336/336 [==============================] - 0s 575us/step - loss: 1.5914 - acc: 0.4762\n",
      "Epoch 49/100\n",
      "336/336 [==============================] - 0s 606us/step - loss: 1.5922 - acc: 0.4732\n",
      "Epoch 50/100\n",
      "336/336 [==============================] - 0s 639us/step - loss: 1.5916 - acc: 0.4762\n",
      "Epoch 51/100\n",
      "336/336 [==============================] - 0s 564us/step - loss: 1.5805 - acc: 0.4762\n",
      "Epoch 52/100\n",
      "336/336 [==============================] - 0s 575us/step - loss: 1.5801 - acc: 0.4554\n",
      "Epoch 53/100\n",
      "336/336 [==============================] - 0s 869us/step - loss: 1.5767 - acc: 0.5060\n",
      "Epoch 54/100\n",
      "336/336 [==============================] - 0s 635us/step - loss: 1.5885 - acc: 0.4643\n",
      "Epoch 55/100\n",
      "336/336 [==============================] - 0s 785us/step - loss: 1.5781 - acc: 0.4494\n",
      "Epoch 56/100\n",
      "336/336 [==============================] - 0s 882us/step - loss: 1.5862 - acc: 0.4732\n",
      "Epoch 57/100\n",
      "336/336 [==============================] - 0s 699us/step - loss: 1.5814 - acc: 0.4643\n",
      "Epoch 58/100\n",
      "336/336 [==============================] - 0s 625us/step - loss: 1.5874 - acc: 0.4583\n",
      "Epoch 59/100\n",
      "336/336 [==============================] - 0s 866us/step - loss: 1.5904 - acc: 0.4702\n",
      "Epoch 60/100\n",
      "336/336 [==============================] - 0s 630us/step - loss: 1.5831 - acc: 0.4792\n",
      "Epoch 61/100\n",
      "336/336 [==============================] - 0s 642us/step - loss: 1.5790 - acc: 0.4554\n",
      "Epoch 62/100\n",
      "336/336 [==============================] - 0s 701us/step - loss: 1.5840 - acc: 0.4792\n",
      "Epoch 63/100\n",
      "336/336 [==============================] - 0s 642us/step - loss: 1.5799 - acc: 0.4583\n",
      "Epoch 64/100\n",
      "336/336 [==============================] - 0s 720us/step - loss: 1.5889 - acc: 0.4524\n",
      "Epoch 65/100\n",
      "336/336 [==============================] - 0s 798us/step - loss: 1.5770 - acc: 0.4673\n",
      "Epoch 66/100\n",
      "336/336 [==============================] - 0s 643us/step - loss: 1.5924 - acc: 0.4583\n",
      "Epoch 67/100\n",
      "336/336 [==============================] - 0s 624us/step - loss: 1.5711 - acc: 0.4643\n",
      "Epoch 68/100\n",
      "336/336 [==============================] - 0s 671us/step - loss: 1.6045 - acc: 0.4524\n",
      "Epoch 69/100\n",
      "336/336 [==============================] - 0s 684us/step - loss: 1.5995 - acc: 0.4613\n",
      "Epoch 70/100\n",
      "336/336 [==============================] - 0s 745us/step - loss: 1.5788 - acc: 0.4554\n",
      "Epoch 71/100\n",
      "336/336 [==============================] - 0s 712us/step - loss: 1.5849 - acc: 0.4643\n",
      "Epoch 72/100\n",
      "336/336 [==============================] - 0s 670us/step - loss: 1.5768 - acc: 0.4643\n",
      "Epoch 73/100\n",
      "336/336 [==============================] - 0s 689us/step - loss: 1.5814 - acc: 0.4613\n",
      "Epoch 74/100\n",
      "336/336 [==============================] - 0s 687us/step - loss: 1.5839 - acc: 0.4821\n",
      "Epoch 75/100\n",
      "336/336 [==============================] - 0s 669us/step - loss: 1.5853 - acc: 0.4643\n",
      "Epoch 76/100\n",
      "336/336 [==============================] - 0s 652us/step - loss: 1.6002 - acc: 0.4643\n",
      "Epoch 77/100\n",
      "336/336 [==============================] - 0s 669us/step - loss: 1.5977 - acc: 0.4435\n",
      "Epoch 78/100\n",
      "336/336 [==============================] - 0s 648us/step - loss: 1.5910 - acc: 0.4673\n",
      "Epoch 79/100\n",
      "336/336 [==============================] - 0s 633us/step - loss: 1.5814 - acc: 0.4762\n",
      "Epoch 80/100\n",
      "336/336 [==============================] - 0s 871us/step - loss: 1.5869 - acc: 0.4524\n",
      "Epoch 81/100\n",
      "336/336 [==============================] - 0s 707us/step - loss: 1.5710 - acc: 0.4911\n",
      "Epoch 82/100\n",
      "336/336 [==============================] - 0s 704us/step - loss: 1.5840 - acc: 0.4643\n",
      "Epoch 83/100\n",
      "336/336 [==============================] - 0s 603us/step - loss: 1.5901 - acc: 0.4554\n"
     ]
    },
    {
     "name": "stdout",
     "output_type": "stream",
     "text": [
      "Epoch 84/100\n",
      "336/336 [==============================] - 0s 500us/step - loss: 1.5858 - acc: 0.4643\n",
      "Epoch 85/100\n",
      "336/336 [==============================] - 0s 471us/step - loss: 1.5969 - acc: 0.4554\n",
      "Epoch 86/100\n",
      "336/336 [==============================] - 0s 463us/step - loss: 1.5856 - acc: 0.4435\n",
      "Epoch 87/100\n",
      "336/336 [==============================] - 0s 447us/step - loss: 1.5961 - acc: 0.4554\n",
      "Epoch 88/100\n",
      "336/336 [==============================] - 0s 470us/step - loss: 1.5803 - acc: 0.4821\n",
      "Epoch 89/100\n",
      "336/336 [==============================] - 0s 514us/step - loss: 1.5810 - acc: 0.4821\n",
      "Epoch 90/100\n",
      "336/336 [==============================] - 0s 475us/step - loss: 1.5655 - acc: 0.4762\n",
      "Epoch 91/100\n",
      "336/336 [==============================] - 0s 471us/step - loss: 1.5822 - acc: 0.4583\n",
      "Epoch 92/100\n",
      "336/336 [==============================] - 0s 487us/step - loss: 1.5921 - acc: 0.4643\n",
      "Epoch 93/100\n",
      "336/336 [==============================] - 0s 469us/step - loss: 1.5845 - acc: 0.4435\n",
      "Epoch 94/100\n",
      "336/336 [==============================] - 0s 483us/step - loss: 1.5687 - acc: 0.4821\n",
      "Epoch 95/100\n",
      "336/336 [==============================] - 0s 519us/step - loss: 1.5727 - acc: 0.4673\n",
      "Epoch 96/100\n",
      "336/336 [==============================] - 0s 463us/step - loss: 1.5809 - acc: 0.4524\n",
      "Epoch 97/100\n",
      "336/336 [==============================] - 0s 497us/step - loss: 1.5913 - acc: 0.4524\n",
      "Epoch 98/100\n",
      "336/336 [==============================] - 0s 531us/step - loss: 1.5712 - acc: 0.4673\n",
      "Epoch 99/100\n",
      "336/336 [==============================] - 0s 465us/step - loss: 1.5755 - acc: 0.4792\n",
      "Epoch 100/100\n",
      "336/336 [==============================] - 0s 520us/step - loss: 1.5835 - acc: 0.4673\n"
     ]
    },
    {
     "data": {
      "text/plain": [
       "<keras.callbacks.History at 0x7f91dc973278>"
      ]
     },
     "execution_count": 56,
     "metadata": {},
     "output_type": "execute_result"
    }
   ],
   "source": [
    "classifier.fit(x_train, y_train, batch_size=7, nb_epoch = 100) \n",
    "# This batch size = 2 and number of epochs = 1000 gives the best accuracy of 36.661\n",
    "# The batch size = 3 and epochs = 300 gave 38.70\n",
    "# Batch size = 1 epoch = 400 gave 36.01"
   ]
  },
  {
   "cell_type": "code",
   "execution_count": null,
   "metadata": {},
   "outputs": [],
   "source": [
    "# As we can see that the training efficiency is 48% the testing efficiency was around 38%"
   ]
  },
  {
   "cell_type": "code",
   "execution_count": null,
   "metadata": {
    "collapsed": true
   },
   "outputs": [],
   "source": [
    "classifier.save('classifier.h5')"
   ]
  },
  {
   "cell_type": "code",
   "execution_count": 42,
   "metadata": {},
   "outputs": [
    {
     "data": {
      "text/plain": [
       "array([[  9.09342115e-11,   5.37613914e-06,   7.38915503e-02, ...,\n",
       "          8.95046051e-11,   9.05164832e-11,   0.00000000e+00],\n",
       "       [  2.34714930e-14,   0.00000000e+00,   1.21717050e-20, ...,\n",
       "          2.55327443e-14,   1.58357519e-14,   0.00000000e+00],\n",
       "       [  1.42803963e-11,   1.02927332e-33,   2.14052236e-18, ...,\n",
       "          1.28789878e-11,   1.13585582e-11,   0.00000000e+00],\n",
       "       ..., \n",
       "       [  1.46668112e-11,   3.96628343e-02,   1.05586492e-01, ...,\n",
       "          1.44923977e-11,   1.62248357e-11,   0.00000000e+00],\n",
       "       [  0.00000000e+00,   0.00000000e+00,   0.00000000e+00, ...,\n",
       "          0.00000000e+00,   0.00000000e+00,   0.00000000e+00],\n",
       "       [  2.00855062e-11,   1.54344866e-03,   8.44880193e-02, ...,\n",
       "          2.01700063e-11,   2.12364674e-11,   0.00000000e+00]], dtype=float32)"
      ]
     },
     "execution_count": 42,
     "metadata": {},
     "output_type": "execute_result"
    }
   ],
   "source": [
    "y_pred = classifier.predict(x_test)\n",
    "y_pred\n",
    "\n",
    "# The results are not very conclusive as there is a limitation of the dataset, the dataset is not very feasible to make any sorts of models.\n"
   ]
  },
  {
   "cell_type": "code",
   "execution_count": null,
   "metadata": {},
   "outputs": [],
   "source": []
  },
  {
   "cell_type": "code",
   "execution_count": null,
   "metadata": {},
   "outputs": [],
   "source": []
  },
  {
   "cell_type": "code",
   "execution_count": null,
   "metadata": {},
   "outputs": [],
   "source": []
  },
  {
   "cell_type": "code",
   "execution_count": null,
   "metadata": {},
   "outputs": [],
   "source": []
  },
  {
   "cell_type": "code",
   "execution_count": null,
   "metadata": {
    "collapsed": true
   },
   "outputs": [],
   "source": []
  },
  {
   "cell_type": "code",
   "execution_count": null,
   "metadata": {
    "collapsed": true
   },
   "outputs": [],
   "source": []
  },
  {
   "cell_type": "code",
   "execution_count": null,
   "metadata": {
    "collapsed": true
   },
   "outputs": [],
   "source": []
  },
  {
   "cell_type": "code",
   "execution_count": null,
   "metadata": {
    "collapsed": true
   },
   "outputs": [],
   "source": []
  },
  {
   "cell_type": "code",
   "execution_count": null,
   "metadata": {
    "collapsed": true
   },
   "outputs": [],
   "source": []
  },
  {
   "cell_type": "code",
   "execution_count": null,
   "metadata": {
    "collapsed": true
   },
   "outputs": [],
   "source": []
  },
  {
   "cell_type": "code",
   "execution_count": null,
   "metadata": {
    "collapsed": true
   },
   "outputs": [],
   "source": []
  }
 ],
 "metadata": {
  "kernelspec": {
   "display_name": "Python 3",
   "language": "python",
   "name": "python3"
  },
  "language_info": {
   "codemirror_mode": {
    "name": "ipython",
    "version": 3
   },
   "file_extension": ".py",
   "mimetype": "text/x-python",
   "name": "python",
   "nbconvert_exporter": "python",
   "pygments_lexer": "ipython3",
   "version": "3.6.0"
  }
 },
 "nbformat": 4,
 "nbformat_minor": 2
}
