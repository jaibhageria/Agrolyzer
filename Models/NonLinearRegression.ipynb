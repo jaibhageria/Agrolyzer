{
 "cells": [
  {
   "cell_type": "code",
   "execution_count": 29,
   "metadata": {},
   "outputs": [],
   "source": [
    "from copy import *\n",
    "import pandas as pd\n",
    "import numpy as np\n",
    "AgroCSV = pd.read_csv('TrimmedAgro.csv')"
   ]
  },
  {
   "cell_type": "code",
   "execution_count": 30,
   "metadata": {},
   "outputs": [],
   "source": [
    "AgroCSV = AgroCSV.sort_values (by = 'Unnamed: 0')"
   ]
  },
  {
   "cell_type": "code",
   "execution_count": 31,
   "metadata": {},
   "outputs": [
    {
     "data": {
      "text/html": [
       "<div>\n",
       "<style>\n",
       "    .dataframe thead tr:only-child th {\n",
       "        text-align: right;\n",
       "    }\n",
       "\n",
       "    .dataframe thead th {\n",
       "        text-align: left;\n",
       "    }\n",
       "\n",
       "    .dataframe tbody tr th {\n",
       "        vertical-align: top;\n",
       "    }\n",
       "</style>\n",
       "<table border=\"1\" class=\"dataframe\">\n",
       "  <thead>\n",
       "    <tr style=\"text-align: right;\">\n",
       "      <th></th>\n",
       "      <th>Unnamed: 0</th>\n",
       "      <th>State_Name</th>\n",
       "      <th>District_Name</th>\n",
       "      <th>Crop_Year</th>\n",
       "      <th>Season</th>\n",
       "      <th>Crop</th>\n",
       "      <th>Area</th>\n",
       "      <th>Production</th>\n",
       "    </tr>\n",
       "  </thead>\n",
       "  <tbody>\n",
       "    <tr>\n",
       "      <th>125330</th>\n",
       "      <td>1</td>\n",
       "      <td>Andaman and Nicobar Islands</td>\n",
       "      <td>NICOBARS</td>\n",
       "      <td>2000</td>\n",
       "      <td>Kharif</td>\n",
       "      <td>Arecanut</td>\n",
       "      <td>1254.0</td>\n",
       "      <td>2000.0</td>\n",
       "    </tr>\n",
       "    <tr>\n",
       "      <th>73052</th>\n",
       "      <td>3</td>\n",
       "      <td>Andaman and Nicobar Islands</td>\n",
       "      <td>NICOBARS</td>\n",
       "      <td>2000</td>\n",
       "      <td>Kharif</td>\n",
       "      <td>Rice</td>\n",
       "      <td>102.0</td>\n",
       "      <td>321.0</td>\n",
       "    </tr>\n",
       "    <tr>\n",
       "      <th>93091</th>\n",
       "      <td>4</td>\n",
       "      <td>Andaman and Nicobar Islands</td>\n",
       "      <td>NICOBARS</td>\n",
       "      <td>2000</td>\n",
       "      <td>Whole Year</td>\n",
       "      <td>Banana</td>\n",
       "      <td>176.0</td>\n",
       "      <td>641.0</td>\n",
       "    </tr>\n",
       "    <tr>\n",
       "      <th>53876</th>\n",
       "      <td>5</td>\n",
       "      <td>Andaman and Nicobar Islands</td>\n",
       "      <td>NICOBARS</td>\n",
       "      <td>2000</td>\n",
       "      <td>Whole Year</td>\n",
       "      <td>Cashewnut</td>\n",
       "      <td>720.0</td>\n",
       "      <td>165.0</td>\n",
       "    </tr>\n",
       "    <tr>\n",
       "      <th>39031</th>\n",
       "      <td>7</td>\n",
       "      <td>Andaman and Nicobar Islands</td>\n",
       "      <td>NICOBARS</td>\n",
       "      <td>2000</td>\n",
       "      <td>Whole Year</td>\n",
       "      <td>Dry ginger</td>\n",
       "      <td>36.0</td>\n",
       "      <td>100.0</td>\n",
       "    </tr>\n",
       "  </tbody>\n",
       "</table>\n",
       "</div>"
      ],
      "text/plain": [
       "        Unnamed: 0                   State_Name District_Name  Crop_Year  \\\n",
       "125330           1  Andaman and Nicobar Islands      NICOBARS       2000   \n",
       "73052            3  Andaman and Nicobar Islands      NICOBARS       2000   \n",
       "93091            4  Andaman and Nicobar Islands      NICOBARS       2000   \n",
       "53876            5  Andaman and Nicobar Islands      NICOBARS       2000   \n",
       "39031            7  Andaman and Nicobar Islands      NICOBARS       2000   \n",
       "\n",
       "             Season        Crop    Area  Production  \n",
       "125330  Kharif         Arecanut  1254.0      2000.0  \n",
       "73052   Kharif             Rice   102.0       321.0  \n",
       "93091   Whole Year       Banana   176.0       641.0  \n",
       "53876   Whole Year    Cashewnut   720.0       165.0  \n",
       "39031   Whole Year   Dry ginger    36.0       100.0  "
      ]
     },
     "execution_count": 31,
     "metadata": {},
     "output_type": "execute_result"
    }
   ],
   "source": [
    "AgroCSV.head(5)"
   ]
  },
  {
   "cell_type": "code",
   "execution_count": 32,
   "metadata": {},
   "outputs": [],
   "source": [
    "AgroCSV.rename(columns={'Unnamed: 0':'ID'}, inplace=True)"
   ]
  },
  {
   "cell_type": "code",
   "execution_count": 33,
   "metadata": {},
   "outputs": [
    {
     "data": {
      "text/html": [
       "<div>\n",
       "<style>\n",
       "    .dataframe thead tr:only-child th {\n",
       "        text-align: right;\n",
       "    }\n",
       "\n",
       "    .dataframe thead th {\n",
       "        text-align: left;\n",
       "    }\n",
       "\n",
       "    .dataframe tbody tr th {\n",
       "        vertical-align: top;\n",
       "    }\n",
       "</style>\n",
       "<table border=\"1\" class=\"dataframe\">\n",
       "  <thead>\n",
       "    <tr style=\"text-align: right;\">\n",
       "      <th></th>\n",
       "      <th>ID</th>\n",
       "      <th>State_Name</th>\n",
       "      <th>District_Name</th>\n",
       "      <th>Crop_Year</th>\n",
       "      <th>Season</th>\n",
       "      <th>Crop</th>\n",
       "      <th>Area</th>\n",
       "      <th>Production</th>\n",
       "    </tr>\n",
       "  </thead>\n",
       "  <tbody>\n",
       "    <tr>\n",
       "      <th>125330</th>\n",
       "      <td>1</td>\n",
       "      <td>Andaman and Nicobar Islands</td>\n",
       "      <td>NICOBARS</td>\n",
       "      <td>2000</td>\n",
       "      <td>Kharif</td>\n",
       "      <td>Arecanut</td>\n",
       "      <td>1254.0</td>\n",
       "      <td>2000.0</td>\n",
       "    </tr>\n",
       "    <tr>\n",
       "      <th>73052</th>\n",
       "      <td>3</td>\n",
       "      <td>Andaman and Nicobar Islands</td>\n",
       "      <td>NICOBARS</td>\n",
       "      <td>2000</td>\n",
       "      <td>Kharif</td>\n",
       "      <td>Rice</td>\n",
       "      <td>102.0</td>\n",
       "      <td>321.0</td>\n",
       "    </tr>\n",
       "    <tr>\n",
       "      <th>93091</th>\n",
       "      <td>4</td>\n",
       "      <td>Andaman and Nicobar Islands</td>\n",
       "      <td>NICOBARS</td>\n",
       "      <td>2000</td>\n",
       "      <td>Whole Year</td>\n",
       "      <td>Banana</td>\n",
       "      <td>176.0</td>\n",
       "      <td>641.0</td>\n",
       "    </tr>\n",
       "    <tr>\n",
       "      <th>53876</th>\n",
       "      <td>5</td>\n",
       "      <td>Andaman and Nicobar Islands</td>\n",
       "      <td>NICOBARS</td>\n",
       "      <td>2000</td>\n",
       "      <td>Whole Year</td>\n",
       "      <td>Cashewnut</td>\n",
       "      <td>720.0</td>\n",
       "      <td>165.0</td>\n",
       "    </tr>\n",
       "    <tr>\n",
       "      <th>39031</th>\n",
       "      <td>7</td>\n",
       "      <td>Andaman and Nicobar Islands</td>\n",
       "      <td>NICOBARS</td>\n",
       "      <td>2000</td>\n",
       "      <td>Whole Year</td>\n",
       "      <td>Dry ginger</td>\n",
       "      <td>36.0</td>\n",
       "      <td>100.0</td>\n",
       "    </tr>\n",
       "  </tbody>\n",
       "</table>\n",
       "</div>"
      ],
      "text/plain": [
       "        ID                   State_Name District_Name  Crop_Year       Season  \\\n",
       "125330   1  Andaman and Nicobar Islands      NICOBARS       2000  Kharif        \n",
       "73052    3  Andaman and Nicobar Islands      NICOBARS       2000  Kharif        \n",
       "93091    4  Andaman and Nicobar Islands      NICOBARS       2000  Whole Year    \n",
       "53876    5  Andaman and Nicobar Islands      NICOBARS       2000  Whole Year    \n",
       "39031    7  Andaman and Nicobar Islands      NICOBARS       2000  Whole Year    \n",
       "\n",
       "              Crop    Area  Production  \n",
       "125330    Arecanut  1254.0      2000.0  \n",
       "73052         Rice   102.0       321.0  \n",
       "93091       Banana   176.0       641.0  \n",
       "53876    Cashewnut   720.0       165.0  \n",
       "39031   Dry ginger    36.0       100.0  "
      ]
     },
     "execution_count": 33,
     "metadata": {},
     "output_type": "execute_result"
    }
   ],
   "source": [
    "AgroCSV.head(5)"
   ]
  },
  {
   "cell_type": "code",
   "execution_count": 34,
   "metadata": {},
   "outputs": [],
   "source": [
    "AgroTN = AgroCSV.loc[AgroCSV['State_Name'] == 'Tamil Nadu']"
   ]
  },
  {
   "cell_type": "code",
   "execution_count": 35,
   "metadata": {},
   "outputs": [
    {
     "data": {
      "text/html": [
       "<div>\n",
       "<style>\n",
       "    .dataframe thead tr:only-child th {\n",
       "        text-align: right;\n",
       "    }\n",
       "\n",
       "    .dataframe thead th {\n",
       "        text-align: left;\n",
       "    }\n",
       "\n",
       "    .dataframe tbody tr th {\n",
       "        vertical-align: top;\n",
       "    }\n",
       "</style>\n",
       "<table border=\"1\" class=\"dataframe\">\n",
       "  <thead>\n",
       "    <tr style=\"text-align: right;\">\n",
       "      <th></th>\n",
       "      <th>ID</th>\n",
       "      <th>State_Name</th>\n",
       "      <th>District_Name</th>\n",
       "      <th>Crop_Year</th>\n",
       "      <th>Season</th>\n",
       "      <th>Crop</th>\n",
       "      <th>Area</th>\n",
       "      <th>Production</th>\n",
       "    </tr>\n",
       "  </thead>\n",
       "  <tbody>\n",
       "    <tr>\n",
       "      <th>2575</th>\n",
       "      <td>191210</td>\n",
       "      <td>Tamil Nadu</td>\n",
       "      <td>VIRUDHUNAGAR</td>\n",
       "      <td>2013</td>\n",
       "      <td>Whole Year</td>\n",
       "      <td>Gram</td>\n",
       "      <td>18.0</td>\n",
       "      <td>12.0</td>\n",
       "    </tr>\n",
       "    <tr>\n",
       "      <th>94491</th>\n",
       "      <td>191211</td>\n",
       "      <td>Tamil Nadu</td>\n",
       "      <td>VIRUDHUNAGAR</td>\n",
       "      <td>2013</td>\n",
       "      <td>Whole Year</td>\n",
       "      <td>Small millets</td>\n",
       "      <td>1187.0</td>\n",
       "      <td>676.0</td>\n",
       "    </tr>\n",
       "    <tr>\n",
       "      <th>35517</th>\n",
       "      <td>191213</td>\n",
       "      <td>Tamil Nadu</td>\n",
       "      <td>VIRUDHUNAGAR</td>\n",
       "      <td>2013</td>\n",
       "      <td>Whole Year</td>\n",
       "      <td>Sweet potato</td>\n",
       "      <td>4.0</td>\n",
       "      <td>84.0</td>\n",
       "    </tr>\n",
       "    <tr>\n",
       "      <th>46462</th>\n",
       "      <td>191214</td>\n",
       "      <td>Tamil Nadu</td>\n",
       "      <td>VIRUDHUNAGAR</td>\n",
       "      <td>2013</td>\n",
       "      <td>Whole Year</td>\n",
       "      <td>Tapioca</td>\n",
       "      <td>4.0</td>\n",
       "      <td>120.0</td>\n",
       "    </tr>\n",
       "    <tr>\n",
       "      <th>5432</th>\n",
       "      <td>191215</td>\n",
       "      <td>Tamil Nadu</td>\n",
       "      <td>VIRUDHUNAGAR</td>\n",
       "      <td>2013</td>\n",
       "      <td>Whole Year</td>\n",
       "      <td>Turmeric</td>\n",
       "      <td>4.0</td>\n",
       "      <td>15.0</td>\n",
       "    </tr>\n",
       "  </tbody>\n",
       "</table>\n",
       "</div>"
      ],
      "text/plain": [
       "           ID  State_Name District_Name  Crop_Year       Season  \\\n",
       "2575   191210  Tamil Nadu  VIRUDHUNAGAR       2013  Whole Year    \n",
       "94491  191211  Tamil Nadu  VIRUDHUNAGAR       2013  Whole Year    \n",
       "35517  191213  Tamil Nadu  VIRUDHUNAGAR       2013  Whole Year    \n",
       "46462  191214  Tamil Nadu  VIRUDHUNAGAR       2013  Whole Year    \n",
       "5432   191215  Tamil Nadu  VIRUDHUNAGAR       2013  Whole Year    \n",
       "\n",
       "                Crop    Area  Production  \n",
       "2575            Gram    18.0        12.0  \n",
       "94491  Small millets  1187.0       676.0  \n",
       "35517   Sweet potato     4.0        84.0  \n",
       "46462        Tapioca     4.0       120.0  \n",
       "5432        Turmeric     4.0        15.0  "
      ]
     },
     "execution_count": 35,
     "metadata": {},
     "output_type": "execute_result"
    }
   ],
   "source": [
    "AgroTN.tail(5)"
   ]
  },
  {
   "cell_type": "code",
   "execution_count": 36,
   "metadata": {},
   "outputs": [],
   "source": [
    "Cols = ['District_Name','Season','Crop','Area','Production']"
   ]
  },
  {
   "cell_type": "code",
   "execution_count": 37,
   "metadata": {},
   "outputs": [],
   "source": [
    "AgroTNCols = AgroTN[Cols]"
   ]
  },
  {
   "cell_type": "code",
   "execution_count": 38,
   "metadata": {},
   "outputs": [
    {
     "data": {
      "text/html": [
       "<div>\n",
       "<style>\n",
       "    .dataframe thead tr:only-child th {\n",
       "        text-align: right;\n",
       "    }\n",
       "\n",
       "    .dataframe thead th {\n",
       "        text-align: left;\n",
       "    }\n",
       "\n",
       "    .dataframe tbody tr th {\n",
       "        vertical-align: top;\n",
       "    }\n",
       "</style>\n",
       "<table border=\"1\" class=\"dataframe\">\n",
       "  <thead>\n",
       "    <tr style=\"text-align: right;\">\n",
       "      <th></th>\n",
       "      <th>District_Name</th>\n",
       "      <th>Season</th>\n",
       "      <th>Crop</th>\n",
       "      <th>Area</th>\n",
       "      <th>Production</th>\n",
       "    </tr>\n",
       "  </thead>\n",
       "  <tbody>\n",
       "    <tr>\n",
       "      <th>93424</th>\n",
       "      <td>ARIYALUR</td>\n",
       "      <td>Kharif</td>\n",
       "      <td>Small millets</td>\n",
       "      <td>404.0</td>\n",
       "      <td>649.0</td>\n",
       "    </tr>\n",
       "    <tr>\n",
       "      <th>46815</th>\n",
       "      <td>ARIYALUR</td>\n",
       "      <td>Whole Year</td>\n",
       "      <td>Arhar/Tur</td>\n",
       "      <td>160.0</td>\n",
       "      <td>122.0</td>\n",
       "    </tr>\n",
       "    <tr>\n",
       "      <th>108420</th>\n",
       "      <td>ARIYALUR</td>\n",
       "      <td>Whole Year</td>\n",
       "      <td>Bajra</td>\n",
       "      <td>644.0</td>\n",
       "      <td>1082.0</td>\n",
       "    </tr>\n",
       "    <tr>\n",
       "      <th>152982</th>\n",
       "      <td>ARIYALUR</td>\n",
       "      <td>Whole Year</td>\n",
       "      <td>Banana</td>\n",
       "      <td>134.0</td>\n",
       "      <td>5761.0</td>\n",
       "    </tr>\n",
       "    <tr>\n",
       "      <th>164967</th>\n",
       "      <td>ARIYALUR</td>\n",
       "      <td>Whole Year</td>\n",
       "      <td>Cashewnut</td>\n",
       "      <td>31188.0</td>\n",
       "      <td>9975.0</td>\n",
       "    </tr>\n",
       "    <tr>\n",
       "      <th>150671</th>\n",
       "      <td>ARIYALUR</td>\n",
       "      <td>Whole Year</td>\n",
       "      <td>Coconut</td>\n",
       "      <td>336.0</td>\n",
       "      <td>5200.0</td>\n",
       "    </tr>\n",
       "    <tr>\n",
       "      <th>48935</th>\n",
       "      <td>ARIYALUR</td>\n",
       "      <td>Whole Year</td>\n",
       "      <td>Coriander</td>\n",
       "      <td>338.0</td>\n",
       "      <td>134.0</td>\n",
       "    </tr>\n",
       "    <tr>\n",
       "      <th>167084</th>\n",
       "      <td>ARIYALUR</td>\n",
       "      <td>Whole Year</td>\n",
       "      <td>Cotton(lint)</td>\n",
       "      <td>4074.0</td>\n",
       "      <td>11033.0</td>\n",
       "    </tr>\n",
       "    <tr>\n",
       "      <th>91684</th>\n",
       "      <td>ARIYALUR</td>\n",
       "      <td>Whole Year</td>\n",
       "      <td>Dry chillies</td>\n",
       "      <td>1676.0</td>\n",
       "      <td>608.0</td>\n",
       "    </tr>\n",
       "    <tr>\n",
       "      <th>183215</th>\n",
       "      <td>ARIYALUR</td>\n",
       "      <td>Whole Year</td>\n",
       "      <td>Groundnut</td>\n",
       "      <td>13878.0</td>\n",
       "      <td>27002.0</td>\n",
       "    </tr>\n",
       "  </tbody>\n",
       "</table>\n",
       "</div>"
      ],
      "text/plain": [
       "       District_Name       Season           Crop     Area  Production\n",
       "93424       ARIYALUR  Kharif       Small millets    404.0       649.0\n",
       "46815       ARIYALUR  Whole Year       Arhar/Tur    160.0       122.0\n",
       "108420      ARIYALUR  Whole Year           Bajra    644.0      1082.0\n",
       "152982      ARIYALUR  Whole Year          Banana    134.0      5761.0\n",
       "164967      ARIYALUR  Whole Year       Cashewnut  31188.0      9975.0\n",
       "150671      ARIYALUR  Whole Year        Coconut     336.0      5200.0\n",
       "48935       ARIYALUR  Whole Year       Coriander    338.0       134.0\n",
       "167084      ARIYALUR  Whole Year    Cotton(lint)   4074.0     11033.0\n",
       "91684       ARIYALUR  Whole Year    Dry chillies   1676.0       608.0\n",
       "183215      ARIYALUR  Whole Year       Groundnut  13878.0     27002.0"
      ]
     },
     "execution_count": 38,
     "metadata": {},
     "output_type": "execute_result"
    }
   ],
   "source": [
    "AgroTNCols.head(10)"
   ]
  },
  {
   "cell_type": "code",
   "execution_count": 39,
   "metadata": {},
   "outputs": [],
   "source": [
    "#Dis1_AgroTNCols = AgroTNCols.loc[AgroTNCols['District_Name'] == 'ARIYALUR']\n",
    "Cols2 = ['Season','Crop','Area','Production']\n",
    "AgroTNCols = AgroTNCols[Cols2]"
   ]
  },
  {
   "cell_type": "code",
   "execution_count": 40,
   "metadata": {},
   "outputs": [
    {
     "data": {
      "text/plain": [
       "9752"
      ]
     },
     "execution_count": 40,
     "metadata": {},
     "output_type": "execute_result"
    }
   ],
   "source": [
    "len(AgroTNCols)"
   ]
  },
  {
   "cell_type": "code",
   "execution_count": 41,
   "metadata": {},
   "outputs": [],
   "source": [
    "Sample = AgroTNCols"
   ]
  },
  {
   "cell_type": "code",
   "execution_count": 42,
   "metadata": {
    "scrolled": false
   },
   "outputs": [
    {
     "name": "stdout",
     "output_type": "stream",
     "text": [
      "             Season           Crop     Area  Production\n",
      "93424   Kharif       Small millets    404.0       649.0\n",
      "46815   Whole Year       Arhar/Tur    160.0       122.0\n",
      "108420  Whole Year           Bajra    644.0      1082.0\n",
      "152982  Whole Year          Banana    134.0      5761.0\n",
      "164967  Whole Year       Cashewnut  31188.0      9975.0\n",
      "150671  Whole Year        Coconut     336.0      5200.0\n",
      "48935   Whole Year       Coriander    338.0       134.0\n",
      "167084  Whole Year    Cotton(lint)   4074.0     11033.0\n",
      "91684   Whole Year    Dry chillies   1676.0       608.0\n",
      "183215  Whole Year       Groundnut  13878.0     27002.0\n",
      "3\n",
      "56\n"
     ]
    }
   ],
   "source": [
    "print (Sample.head(10))\n",
    "print(len(set(Sample['Season'])))\n",
    "print(len(set(Sample['Crop'])))\n",
    "#There are only 3 seasons\n",
    "#There are 23 crops"
   ]
  },
  {
   "cell_type": "code",
   "execution_count": 43,
   "metadata": {},
   "outputs": [],
   "source": [
    "x = Sample.iloc[:, 0:3].values\n",
    "y = Sample.iloc[:,3].values"
   ]
  },
  {
   "cell_type": "code",
   "execution_count": 85,
   "metadata": {},
   "outputs": [],
   "source": [
    "#from sklearn.model_selection import train_test_split\n",
    "#x_train,x_test, y_train, y_test = train_test_split(x, y, test_size = 0.3)\n",
    "#Y is production, X are the other variables"
   ]
  },
  {
   "cell_type": "code",
   "execution_count": 44,
   "metadata": {},
   "outputs": [],
   "source": [
    "NewData = pd.DataFrame()"
   ]
  },
  {
   "cell_type": "code",
   "execution_count": 45,
   "metadata": {},
   "outputs": [],
   "source": [
    "NewData['Season']=Sample['Season']\n",
    "NewData['Crop']=Sample['Crop']\n",
    "NewData['Area']=Sample['Area']\n",
    "NewData['Production']=Sample['Production']"
   ]
  },
  {
   "cell_type": "code",
   "execution_count": 46,
   "metadata": {},
   "outputs": [
    {
     "data": {
      "text/html": [
       "<div>\n",
       "<style>\n",
       "    .dataframe thead tr:only-child th {\n",
       "        text-align: right;\n",
       "    }\n",
       "\n",
       "    .dataframe thead th {\n",
       "        text-align: left;\n",
       "    }\n",
       "\n",
       "    .dataframe tbody tr th {\n",
       "        vertical-align: top;\n",
       "    }\n",
       "</style>\n",
       "<table border=\"1\" class=\"dataframe\">\n",
       "  <thead>\n",
       "    <tr style=\"text-align: right;\">\n",
       "      <th></th>\n",
       "      <th>Season</th>\n",
       "      <th>Crop</th>\n",
       "      <th>Area</th>\n",
       "      <th>Production</th>\n",
       "    </tr>\n",
       "  </thead>\n",
       "  <tbody>\n",
       "    <tr>\n",
       "      <th>93424</th>\n",
       "      <td>Kharif</td>\n",
       "      <td>Small millets</td>\n",
       "      <td>404.0</td>\n",
       "      <td>649.0</td>\n",
       "    </tr>\n",
       "    <tr>\n",
       "      <th>46815</th>\n",
       "      <td>Whole Year</td>\n",
       "      <td>Arhar/Tur</td>\n",
       "      <td>160.0</td>\n",
       "      <td>122.0</td>\n",
       "    </tr>\n",
       "    <tr>\n",
       "      <th>108420</th>\n",
       "      <td>Whole Year</td>\n",
       "      <td>Bajra</td>\n",
       "      <td>644.0</td>\n",
       "      <td>1082.0</td>\n",
       "    </tr>\n",
       "    <tr>\n",
       "      <th>152982</th>\n",
       "      <td>Whole Year</td>\n",
       "      <td>Banana</td>\n",
       "      <td>134.0</td>\n",
       "      <td>5761.0</td>\n",
       "    </tr>\n",
       "    <tr>\n",
       "      <th>164967</th>\n",
       "      <td>Whole Year</td>\n",
       "      <td>Cashewnut</td>\n",
       "      <td>31188.0</td>\n",
       "      <td>9975.0</td>\n",
       "    </tr>\n",
       "  </tbody>\n",
       "</table>\n",
       "</div>"
      ],
      "text/plain": [
       "             Season           Crop     Area  Production\n",
       "93424   Kharif       Small millets    404.0       649.0\n",
       "46815   Whole Year       Arhar/Tur    160.0       122.0\n",
       "108420  Whole Year           Bajra    644.0      1082.0\n",
       "152982  Whole Year          Banana    134.0      5761.0\n",
       "164967  Whole Year       Cashewnut  31188.0      9975.0"
      ]
     },
     "execution_count": 46,
     "metadata": {},
     "output_type": "execute_result"
    }
   ],
   "source": [
    "NewData.head(5)"
   ]
  },
  {
   "cell_type": "code",
   "execution_count": 47,
   "metadata": {},
   "outputs": [],
   "source": [
    "LUQCrop = NewData[\"Crop\"].unique()\n",
    "LUQDname= NewData[\"Season\"].unique()\n",
    "    \n",
    "    \n",
    "LUQCrop1  = [(LUQCrop[i],i+1) for i in range(len(LUQCrop))]\n",
    "    \n",
    "LUQDname1  = [(LUQDname[i],i+1) for i in range(len(LUQDname))]\n",
    "    \n",
    "CropDictionary={Key:Value for Key,Value in LUQCrop1}\n",
    "    \n",
    "SeasonDictionary={Key:Value for Key,Value in LUQDname1}\n"
   ]
  },
  {
   "cell_type": "code",
   "execution_count": 48,
   "metadata": {},
   "outputs": [
    {
     "data": {
      "text/plain": [
       "{'Kharif     ': 1, 'Rabi       ': 3, 'Whole Year ': 2}"
      ]
     },
     "execution_count": 48,
     "metadata": {},
     "output_type": "execute_result"
    }
   ],
   "source": [
    "SeasonDictionary"
   ]
  },
  {
   "cell_type": "code",
   "execution_count": 49,
   "metadata": {},
   "outputs": [],
   "source": [
    "NewSeason = [SeasonDictionary[Season] for Season in NewData.Season]"
   ]
  },
  {
   "cell_type": "code",
   "execution_count": 50,
   "metadata": {},
   "outputs": [],
   "source": [
    "NewData.Season = NewSeason"
   ]
  },
  {
   "cell_type": "code",
   "execution_count": 51,
   "metadata": {},
   "outputs": [
    {
     "data": {
      "text/html": [
       "<div>\n",
       "<style>\n",
       "    .dataframe thead tr:only-child th {\n",
       "        text-align: right;\n",
       "    }\n",
       "\n",
       "    .dataframe thead th {\n",
       "        text-align: left;\n",
       "    }\n",
       "\n",
       "    .dataframe tbody tr th {\n",
       "        vertical-align: top;\n",
       "    }\n",
       "</style>\n",
       "<table border=\"1\" class=\"dataframe\">\n",
       "  <thead>\n",
       "    <tr style=\"text-align: right;\">\n",
       "      <th></th>\n",
       "      <th>Season</th>\n",
       "      <th>Crop</th>\n",
       "      <th>Area</th>\n",
       "      <th>Production</th>\n",
       "    </tr>\n",
       "  </thead>\n",
       "  <tbody>\n",
       "    <tr>\n",
       "      <th>93424</th>\n",
       "      <td>1</td>\n",
       "      <td>Small millets</td>\n",
       "      <td>404.0</td>\n",
       "      <td>649.0</td>\n",
       "    </tr>\n",
       "    <tr>\n",
       "      <th>46815</th>\n",
       "      <td>2</td>\n",
       "      <td>Arhar/Tur</td>\n",
       "      <td>160.0</td>\n",
       "      <td>122.0</td>\n",
       "    </tr>\n",
       "    <tr>\n",
       "      <th>108420</th>\n",
       "      <td>2</td>\n",
       "      <td>Bajra</td>\n",
       "      <td>644.0</td>\n",
       "      <td>1082.0</td>\n",
       "    </tr>\n",
       "    <tr>\n",
       "      <th>152982</th>\n",
       "      <td>2</td>\n",
       "      <td>Banana</td>\n",
       "      <td>134.0</td>\n",
       "      <td>5761.0</td>\n",
       "    </tr>\n",
       "    <tr>\n",
       "      <th>164967</th>\n",
       "      <td>2</td>\n",
       "      <td>Cashewnut</td>\n",
       "      <td>31188.0</td>\n",
       "      <td>9975.0</td>\n",
       "    </tr>\n",
       "  </tbody>\n",
       "</table>\n",
       "</div>"
      ],
      "text/plain": [
       "        Season           Crop     Area  Production\n",
       "93424        1  Small millets    404.0       649.0\n",
       "46815        2      Arhar/Tur    160.0       122.0\n",
       "108420       2          Bajra    644.0      1082.0\n",
       "152982       2         Banana    134.0      5761.0\n",
       "164967       2      Cashewnut  31188.0      9975.0"
      ]
     },
     "execution_count": 51,
     "metadata": {},
     "output_type": "execute_result"
    }
   ],
   "source": [
    "NewData.head(5)"
   ]
  },
  {
   "cell_type": "code",
   "execution_count": 52,
   "metadata": {},
   "outputs": [],
   "source": [
    "NewCrop = [CropDictionary[Crop] for Crop in NewData.Crop]"
   ]
  },
  {
   "cell_type": "code",
   "execution_count": 53,
   "metadata": {},
   "outputs": [],
   "source": [
    "NewData.Crop = NewCrop"
   ]
  },
  {
   "cell_type": "code",
   "execution_count": 54,
   "metadata": {},
   "outputs": [
    {
     "data": {
      "text/html": [
       "<div>\n",
       "<style>\n",
       "    .dataframe thead tr:only-child th {\n",
       "        text-align: right;\n",
       "    }\n",
       "\n",
       "    .dataframe thead th {\n",
       "        text-align: left;\n",
       "    }\n",
       "\n",
       "    .dataframe tbody tr th {\n",
       "        vertical-align: top;\n",
       "    }\n",
       "</style>\n",
       "<table border=\"1\" class=\"dataframe\">\n",
       "  <thead>\n",
       "    <tr style=\"text-align: right;\">\n",
       "      <th></th>\n",
       "      <th>Season</th>\n",
       "      <th>Crop</th>\n",
       "      <th>Area</th>\n",
       "      <th>Production</th>\n",
       "    </tr>\n",
       "  </thead>\n",
       "  <tbody>\n",
       "    <tr>\n",
       "      <th>93424</th>\n",
       "      <td>1</td>\n",
       "      <td>1</td>\n",
       "      <td>404.0</td>\n",
       "      <td>649.0</td>\n",
       "    </tr>\n",
       "    <tr>\n",
       "      <th>46815</th>\n",
       "      <td>2</td>\n",
       "      <td>2</td>\n",
       "      <td>160.0</td>\n",
       "      <td>122.0</td>\n",
       "    </tr>\n",
       "    <tr>\n",
       "      <th>108420</th>\n",
       "      <td>2</td>\n",
       "      <td>3</td>\n",
       "      <td>644.0</td>\n",
       "      <td>1082.0</td>\n",
       "    </tr>\n",
       "    <tr>\n",
       "      <th>152982</th>\n",
       "      <td>2</td>\n",
       "      <td>4</td>\n",
       "      <td>134.0</td>\n",
       "      <td>5761.0</td>\n",
       "    </tr>\n",
       "    <tr>\n",
       "      <th>164967</th>\n",
       "      <td>2</td>\n",
       "      <td>5</td>\n",
       "      <td>31188.0</td>\n",
       "      <td>9975.0</td>\n",
       "    </tr>\n",
       "  </tbody>\n",
       "</table>\n",
       "</div>"
      ],
      "text/plain": [
       "        Season  Crop     Area  Production\n",
       "93424        1     1    404.0       649.0\n",
       "46815        2     2    160.0       122.0\n",
       "108420       2     3    644.0      1082.0\n",
       "152982       2     4    134.0      5761.0\n",
       "164967       2     5  31188.0      9975.0"
      ]
     },
     "execution_count": 54,
     "metadata": {},
     "output_type": "execute_result"
    }
   ],
   "source": [
    "NewData.head(5)"
   ]
  },
  {
   "cell_type": "code",
   "execution_count": 55,
   "metadata": {},
   "outputs": [],
   "source": [
    "x = NewData.iloc[:, 0:3].values\n",
    "y = NewData.iloc[:,3].values\n",
    "\n",
    "from sklearn.model_selection import train_test_split\n",
    "x_train,x_test, y_train, y_test = train_test_split(x, y, test_size = 0.3)"
   ]
  },
  {
   "cell_type": "code",
   "execution_count": null,
   "metadata": {},
   "outputs": [],
   "source": []
  },
  {
   "cell_type": "code",
   "execution_count": 56,
   "metadata": {},
   "outputs": [],
   "source": [
    "from sklearn.preprocessing import PolynomialFeatures\n",
    "from sklearn.linear_model import LinearRegression\n",
    "from sklearn.linear_model import LassoCV\n",
    "from sklearn.pipeline import make_pipeline"
   ]
  },
  {
   "cell_type": "code",
   "execution_count": 79,
   "metadata": {},
   "outputs": [
    {
     "name": "stderr",
     "output_type": "stream",
     "text": [
      "C:\\Anaconda\\lib\\site-packages\\sklearn\\linear_model\\coordinate_descent.py:491: ConvergenceWarning: Objective did not converge. You might want to increase the number of iterations. Fitting data with very small alpha may cause precision problems.\n",
      "  ConvergenceWarning)\n",
      "C:\\Anaconda\\lib\\site-packages\\sklearn\\linear_model\\coordinate_descent.py:491: ConvergenceWarning: Objective did not converge. You might want to increase the number of iterations. Fitting data with very small alpha may cause precision problems.\n",
      "  ConvergenceWarning)\n",
      "C:\\Anaconda\\lib\\site-packages\\sklearn\\linear_model\\coordinate_descent.py:491: ConvergenceWarning: Objective did not converge. You might want to increase the number of iterations. Fitting data with very small alpha may cause precision problems.\n",
      "  ConvergenceWarning)\n",
      "C:\\Anaconda\\lib\\site-packages\\sklearn\\linear_model\\coordinate_descent.py:491: ConvergenceWarning: Objective did not converge. You might want to increase the number of iterations. Fitting data with very small alpha may cause precision problems.\n",
      "  ConvergenceWarning)\n",
      "C:\\Anaconda\\lib\\site-packages\\sklearn\\linear_model\\coordinate_descent.py:491: ConvergenceWarning: Objective did not converge. You might want to increase the number of iterations. Fitting data with very small alpha may cause precision problems.\n",
      "  ConvergenceWarning)\n"
     ]
    }
   ],
   "source": [
    "# Alpha (regularization strength) of LASSO regression\n",
    "lasso_eps = 0.0001\n",
    "lasso_nalpha=20\n",
    "lasso_iter=20000\n",
    "# Min and max degree of polynomials features to consider\n",
    "degree_min = 2\n",
    "degree_max = 8\n",
    "# Test/train split\n",
    "#X_train, X_test, y_train, y_test = train_test_split(df['X'], df['y'],test_size=test_set_fraction)\n",
    "# Make a pipeline model with polynomial transformation and LASSO regression with cross-validation, run it for increasing degree of polynomial (complexity of the model)\n",
    "for degree in range(degree_min,degree_max+1):\n",
    "    model = make_pipeline(PolynomialFeatures(degree, interaction_only=False), LassoCV(eps=lasso_eps,n_alphas=lasso_nalpha,max_iter=lasso_iter,\n",
    "normalize=True,cv=5))\n",
    "    model.fit(x_train,y_train)\n",
    "    test_pred = np.array(model.predict(x_test))\n",
    "    RMSE=np.sqrt(np.sum(np.square(test_pred-y_test)))\n",
    "    test_score = model.score(x_test,y_test)"
   ]
  },
  {
   "cell_type": "code",
   "execution_count": 80,
   "metadata": {},
   "outputs": [
    {
     "data": {
      "text/plain": [
       "array([ 1368.18499173,  9562.51672029,  2502.11981235, ...,  1738.7063921 ,\n",
       "        1779.82342566,  3531.78282764])"
      ]
     },
     "execution_count": 80,
     "metadata": {},
     "output_type": "execute_result"
    }
   ],
   "source": [
    "test_pred"
   ]
  },
  {
   "cell_type": "code",
   "execution_count": 82,
   "metadata": {},
   "outputs": [
    {
     "data": {
      "text/plain": [
       "array([   22.,   392.,   841., ...,   406.,   789.,  2980.])"
      ]
     },
     "execution_count": 82,
     "metadata": {},
     "output_type": "execute_result"
    }
   ],
   "source": [
    "y_test"
   ]
  },
  {
   "cell_type": "code",
   "execution_count": 83,
   "metadata": {},
   "outputs": [
    {
     "data": {
      "text/plain": [
       "476075.89294065553"
      ]
     },
     "execution_count": 83,
     "metadata": {},
     "output_type": "execute_result"
    }
   ],
   "source": [
    "RMSE"
   ]
  },
  {
   "cell_type": "code",
   "execution_count": 84,
   "metadata": {},
   "outputs": [
    {
     "data": {
      "text/plain": [
       "0.35245693401669231"
      ]
     },
     "execution_count": 84,
     "metadata": {},
     "output_type": "execute_result"
    }
   ],
   "source": [
    "test_score"
   ]
  },
  {
   "cell_type": "code",
   "execution_count": null,
   "metadata": {},
   "outputs": [],
   "source": []
  },
  {
   "cell_type": "code",
   "execution_count": null,
   "metadata": {},
   "outputs": [],
   "source": []
  }
 ],
 "metadata": {
  "kernelspec": {
   "display_name": "Python 3",
   "language": "python",
   "name": "python3"
  },
  "language_info": {
   "codemirror_mode": {
    "name": "ipython",
    "version": 3
   },
   "file_extension": ".py",
   "mimetype": "text/x-python",
   "name": "python",
   "nbconvert_exporter": "python",
   "pygments_lexer": "ipython3",
   "version": "3.6.3"
  }
 },
 "nbformat": 4,
 "nbformat_minor": 2
}
